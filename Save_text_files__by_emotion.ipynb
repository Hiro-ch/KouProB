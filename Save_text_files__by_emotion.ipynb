{
  "nbformat": 4,
  "nbformat_minor": 0,
  "metadata": {
    "colab": {
      "provenance": [],
      "authorship_tag": "ABX9TyOujwwPhreaMUl4jB/nEuaF",
      "include_colab_link": true
    },
    "kernelspec": {
      "name": "python3",
      "display_name": "Python 3"
    },
    "language_info": {
      "name": "python"
    }
  },
  "cells": [
    {
      "cell_type": "markdown",
      "metadata": {
        "id": "view-in-github",
        "colab_type": "text"
      },
      "source": [
        "<a href=\"https://colab.research.google.com/github/Hiro-ch/KouProB/blob/main/Save_text_files__by_emotion.ipynb\" target=\"_parent\"><img src=\"https://colab.research.google.com/assets/colab-badge.svg\" alt=\"Open In Colab\"/></a>"
      ]
    },
    {
      "cell_type": "markdown",
      "source": [
        "# Outscraperで口コミを取得後、感情別にテキストファイルを保存するプログラム"
      ],
      "metadata": {
        "id": "MD_mqhtqYHG9"
      }
    },
    {
      "cell_type": "markdown",
      "source": [
        "まず、感情推定ライブラリをインストールします"
      ],
      "metadata": {
        "id": "ht_wM1ZgYe4d"
      }
    },
    {
      "cell_type": "code",
      "source": [
        "!pip install asari"
      ],
      "metadata": {
        "id": "7nKQIzkSYTQz"
      },
      "execution_count": null,
      "outputs": []
    },
    {
      "cell_type": "markdown",
      "source": [
        "ソースコード中の○○は任意のファイル名で指定してください"
      ],
      "metadata": {
        "id": "NnKOCP-iY17a"
      }
    },
    {
      "cell_type": "code",
      "source": [
        "import pandas as pd\n",
        "from asari.api import Sonar\n",
        "import os\n",
        "\n",
        "\n",
        "# 感情推定\n",
        "def sentiment_analysis(text):\n",
        "  sonar = Sonar()\n",
        "  res = sonar.ping(text=text)\n",
        "  #return res\n",
        "  return res[\"top_class\"]\n",
        "\n",
        "# positiveに判定されたテキストの集合\n",
        "def positive_text(shop,text):\n",
        "  with open(f\"{shop}_positive.txt\", \"a\", encoding=\"utf-8\") as f:\n",
        "    f.write(text)\n",
        "\n",
        "# negativeに判定されたテキストの集合\n",
        "def negative_text(shop,text):\n",
        "  with open(f\"{shop}_negative.txt\", \"a\", encoding=\"utf-8\") as f:\n",
        "    f.write(text)\n",
        "\n",
        "\n",
        "# エクセルファイルを読み込む\n",
        "file_path = '○○.xlsx'\n",
        "df = pd.read_excel(file_path)\n",
        "\n",
        "# 抽出したい列を指定する\n",
        "#review_textは口コミのテキスト\n",
        "column_name = 'review_text'\n",
        "\n",
        "# 指定した列を抽出\n",
        "selected_column = df[column_name]\n",
        "\n",
        "# nanを除去し、テキストファイルに保存\n",
        "output_file = '○○.txt'\n",
        "\n",
        "with open(output_file, 'w', encoding='utf-8') as file:\n",
        "    for item in selected_column:\n",
        "        # nanを文字列として含む行を除外\n",
        "        if pd.isna(item) or 'nan' in str(item):\n",
        "            continue\n",
        "        file.write(f\"{item}\\n\")\n",
        "\n",
        "print(f\"列名 '{column_name}' は '{output_file}' に保存されました。\")\n",
        "\n",
        "# 感情別にテキストファイルを保存する\n",
        "with open(output_file, \"r\", encoding=\"utf-8\") as file:\n",
        "    shop = os.path.splitext(file.name)[0]\n",
        "    lines = file.readlines()\n",
        "    for text in lines:\n",
        "      if sentiment_analysis(text) == \"positive\":\n",
        "        positive_text(shop,text)\n",
        "        print(text,sentiment_analysis(text))\n",
        "      else:\n",
        "        negative_text(shop,text)\n",
        "        print(text,sentiment_analysis(text))\n",
        "\n",
        "print(\"テキストファイルへの追記が完了しました。\")"
      ],
      "metadata": {
        "id": "cfmJFNrzY2er"
      },
      "execution_count": null,
      "outputs": []
    }
  ]
}